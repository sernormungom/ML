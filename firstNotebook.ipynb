{
  "nbformat": 4,
  "nbformat_minor": 0,
  "metadata": {
    "colab": {
      "name": "firstNotebook.ipynb",
      "provenance": [],
      "toc_visible": true,
      "authorship_tag": "ABX9TyM99aS3m7EOoqHYJ3xtJ3Qd",
      "include_colab_link": true
    },
    "kernelspec": {
      "name": "python3",
      "display_name": "Python 3"
    },
    "language_info": {
      "name": "python"
    }
  },
  "cells": [
    {
      "cell_type": "markdown",
      "metadata": {
        "id": "view-in-github",
        "colab_type": "text"
      },
      "source": [
        "<a href=\"https://colab.research.google.com/github/sernormungom/ML/blob/main/firstNotebook.ipynb\" target=\"_parent\"><img src=\"https://colab.research.google.com/assets/colab-badge.svg\" alt=\"Open In Colab\"/></a>"
      ]
    },
    {
      "cell_type": "code",
      "metadata": {
        "id": "8gEHL94cenM2"
      },
      "source": [
        "import pandas as pd"
      ],
      "execution_count": null,
      "outputs": []
    },
    {
      "cell_type": "markdown",
      "metadata": {
        "id": "68k9eD7pnSFr"
      },
      "source": [
        "# Nytt avsnitt"
      ]
    },
    {
      "cell_type": "code",
      "metadata": {
        "id": "6ztLz0jmrAyb",
        "outputId": "c11b1542-f1ed-4217-f289-a4e167e9edff",
        "colab": {
          "base_uri": "https://localhost:8080/"
        }
      },
      "source": [
        "import urllib3\n",
        "http = urllib3.PoolManager()\n",
        "r = http.request('GET', 'https://raw.githubusercontent.com/joanby/python-ml-course/master/datasets/titanic/titanic3.csv')\n",
        "r.status\n",
        "r.data\n",
        "r.data."
      ],
      "execution_count": 4,
      "outputs": [
        {
          "output_type": "stream",
          "text": [
            "/usr/local/lib/python3.7/dist-packages/urllib3/connectionpool.py:847: InsecureRequestWarning: Unverified HTTPS request is being made. Adding certificate verification is strongly advised. See: https://urllib3.readthedocs.io/en/latest/advanced-usage.html#ssl-warnings\n",
            "  InsecureRequestWarning)\n"
          ],
          "name": "stderr"
        },
        {
          "output_type": "execute_result",
          "data": {
            "text/plain": [
              "<function bytes.split>"
            ]
          },
          "metadata": {},
          "execution_count": 4
        }
      ]
    }
  ]
}